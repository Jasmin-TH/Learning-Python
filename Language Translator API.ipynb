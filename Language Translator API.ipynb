{
    "cells": [
        {
            "cell_type": "code",
            "execution_count": 1,
            "metadata": {},
            "outputs": [
                {
                    "name": "stdout",
                    "output_type": "stream",
                    "text": "Requirement already satisfied: ibm_watson in /opt/conda/envs/Python-3.8-main/lib/python3.8/site-packages (5.3.0)\nRequirement already satisfied: wget in /opt/conda/envs/Python-3.8-main/lib/python3.8/site-packages (3.2)\nRequirement already satisfied: ibm-cloud-sdk-core==3.*,>=3.3.6 in /opt/conda/envs/Python-3.8-main/lib/python3.8/site-packages (from ibm_watson) (3.10.1)\nRequirement already satisfied: requests<3.0,>=2.0 in /opt/conda/envs/Python-3.8-main/lib/python3.8/site-packages (from ibm_watson) (2.25.1)\nRequirement already satisfied: websocket-client==1.1.0 in /opt/conda/envs/Python-3.8-main/lib/python3.8/site-packages (from ibm_watson) (1.1.0)\nRequirement already satisfied: python-dateutil>=2.5.3 in /opt/conda/envs/Python-3.8-main/lib/python3.8/site-packages (from ibm_watson) (2.8.1)\nRequirement already satisfied: PyJWT<3.0.0,>=2.0.1 in /opt/conda/envs/Python-3.8-main/lib/python3.8/site-packages (from ibm-cloud-sdk-core==3.*,>=3.3.6->ibm_watson) (2.1.0)\nRequirement already satisfied: six>=1.5 in /opt/conda/envs/Python-3.8-main/lib/python3.8/site-packages (from python-dateutil>=2.5.3->ibm_watson) (1.15.0)\nRequirement already satisfied: chardet<5,>=3.0.2 in /opt/conda/envs/Python-3.8-main/lib/python3.8/site-packages (from requests<3.0,>=2.0->ibm_watson) (3.0.4)\nRequirement already satisfied: urllib3<1.27,>=1.21.1 in /opt/conda/envs/Python-3.8-main/lib/python3.8/site-packages (from requests<3.0,>=2.0->ibm_watson) (1.26.6)\nRequirement already satisfied: certifi>=2017.4.17 in /opt/conda/envs/Python-3.8-main/lib/python3.8/site-packages (from requests<3.0,>=2.0->ibm_watson) (2021.10.8)\nRequirement already satisfied: idna<3,>=2.5 in /opt/conda/envs/Python-3.8-main/lib/python3.8/site-packages (from requests<3.0,>=2.0->ibm_watson) (2.8)\n"
                }
            ],
            "source": "#you will need the following library \n!pip install ibm_watson wget"
        },
        {
            "cell_type": "code",
            "execution_count": 19,
            "metadata": {},
            "outputs": [
                {
                    "name": "stdout",
                    "output_type": "stream",
                    "text": "--2022-01-02 14:29:06--  https://cf-courses-data.s3.us.cloud-object-storage.appdomain.cloud/IBMDeveloperSkillsNetwork-PY0101EN-SkillsNetwork/labs/Module%205/data/PolynomialRegressionandPipelines.mp3\nResolving cf-courses-data.s3.us.cloud-object-storage.appdomain.cloud (cf-courses-data.s3.us.cloud-object-storage.appdomain.cloud)... 198.23.119.245\nConnecting to cf-courses-data.s3.us.cloud-object-storage.appdomain.cloud (cf-courses-data.s3.us.cloud-object-storage.appdomain.cloud)|198.23.119.245|:443... connected.\nHTTP request sent, awaiting response... 200 OK\nLength: 4234179 (4.0M) [audio/mpeg]\nSaving to: \u2018PolynomialRegressionandPipelines.mp3\u2019\n\nPolynomialRegressio 100%[===================>]   4.04M  --.-KB/s    in 0.03s   \n\n2022-01-02 14:29:07 (144 MB/s) - \u2018PolynomialRegressionandPipelines.mp3\u2019 saved [4234179/4234179]\n\n"
                }
            ],
            "source": "#From previous program, this generate the \"recognized_text used by the next app, the Language Translator\"\n#This can be replaced by a source file upload, or another Speech-to-Text API output\nfrom ibm_watson import SpeechToTextV1 \nimport json\nfrom ibm_cloud_sdk_core.authenticators import IAMAuthenticator\n# Unused keys and accesses will be cancelled after 30days of not being used. These were generated on 2022-01-02\n# Find the APIs Here: https://dataplatform.cloud.ibm.com/data/catalog?target=services&context=cpdaas\nurl_s2t = \"https://api.us-east.speech-to-text.watson.cloud.ibm.com/instances/3ce80fe0-772d-45f6-a681-589814e085d8\"\niam_apikey_s2t = \"CoNkLUsurcomYQYi8Req8NJ2LrhJe81y82crACzM0Mzp\"\nauthenticator = IAMAuthenticator(iam_apikey_s2t)\ns2t = SpeechToTextV1(authenticator=authenticator)\ns2t.set_service_url(url_s2t)\ns2t\n!wget -O PolynomialRegressionandPipelines.mp3  https://cf-courses-data.s3.us.cloud-object-storage.appdomain.cloud/IBMDeveloperSkillsNetwork-PY0101EN-SkillsNetwork/labs/Module%205/data/PolynomialRegressionandPipelines.mp3\nfilename='PolynomialRegressionandPipelines.mp3'\nwith open(filename, mode=\"rb\")  as wav:\n    response = s2t.recognize(audio=wav, content_type='audio/mp3')\nfrom pandas import json_normalize\njson_normalize(response.result['results'],\"alternatives\")\nrecognized_text=response.result['results'][0][\"alternatives\"][0][\"transcript\"]"
        },
        {
            "cell_type": "code",
            "execution_count": 20,
            "metadata": {},
            "outputs": [],
            "source": "from ibm_watson import LanguageTranslatorV3\nimport json\nfrom ibm_cloud_sdk_core.authenticators import IAMAuthenticator\nurl_lt='https://api.us-east.language-translator.watson.cloud.ibm.com/instances/2c25625f-1f04-4758-8695-e089bfa2b9b4'\napikey_lt='mXjhD0QyeMJUKfPgbCVSVIMiUMo0ahvQ62zN3Fd3syHx'\n#API requests require a version parameter that takes a date in the format version=YYYY-MM-DD. This lab describes the current version of Language Translator, 2018-05-01\nversion_lt='2018-05-01'"
        },
        {
            "cell_type": "code",
            "execution_count": 21,
            "metadata": {},
            "outputs": [
                {
                    "data": {
                        "text/plain": "<ibm_watson.language_translator_v3.LanguageTranslatorV3 at 0x7f5194e818e0>"
                    },
                    "execution_count": 21,
                    "metadata": {},
                    "output_type": "execute_result"
                }
            ],
            "source": "authenticator = IAMAuthenticator(apikey_lt)\nlanguage_translator = LanguageTranslatorV3(version=version_lt,authenticator=authenticator)\nlanguage_translator.set_service_url(url_lt)\nlanguage_translator"
        },
        {
            "cell_type": "code",
            "execution_count": 22,
            "metadata": {},
            "outputs": [
                {
                    "data": {
                        "text/html": "<div>\n<style scoped>\n    .dataframe tbody tr th:only-of-type {\n        vertical-align: middle;\n    }\n\n    .dataframe tbody tr th {\n        vertical-align: top;\n    }\n\n    .dataframe thead th {\n        text-align: right;\n    }\n</style>\n<table border=\"1\" class=\"dataframe\">\n  <thead>\n    <tr style=\"text-align: right;\">\n      <th></th>\n      <th>language</th>\n      <th>name</th>\n    </tr>\n  </thead>\n  <tbody>\n    <tr>\n      <th>0</th>\n      <td>af</td>\n      <td>Afrikaans</td>\n    </tr>\n    <tr>\n      <th>1</th>\n      <td>ar</td>\n      <td>Arabic</td>\n    </tr>\n    <tr>\n      <th>2</th>\n      <td>az</td>\n      <td>Azerbaijani</td>\n    </tr>\n    <tr>\n      <th>3</th>\n      <td>ba</td>\n      <td>Bashkir</td>\n    </tr>\n    <tr>\n      <th>4</th>\n      <td>be</td>\n      <td>Belarusian</td>\n    </tr>\n    <tr>\n      <th>...</th>\n      <td>...</td>\n      <td>...</td>\n    </tr>\n    <tr>\n      <th>71</th>\n      <td>uk</td>\n      <td>Ukrainian</td>\n    </tr>\n    <tr>\n      <th>72</th>\n      <td>ur</td>\n      <td>Urdu</td>\n    </tr>\n    <tr>\n      <th>73</th>\n      <td>vi</td>\n      <td>Vietnamese</td>\n    </tr>\n    <tr>\n      <th>74</th>\n      <td>zh</td>\n      <td>Simplified Chinese</td>\n    </tr>\n    <tr>\n      <th>75</th>\n      <td>zh-TW</td>\n      <td>Traditional Chinese</td>\n    </tr>\n  </tbody>\n</table>\n<p>76 rows \u00d7 2 columns</p>\n</div>",
                        "text/plain": "   language                 name\n0        af            Afrikaans\n1        ar               Arabic\n2        az          Azerbaijani\n3        ba              Bashkir\n4        be           Belarusian\n..      ...                  ...\n71       uk            Ukrainian\n72       ur                 Urdu\n73       vi           Vietnamese\n74       zh   Simplified Chinese\n75    zh-TW  Traditional Chinese\n\n[76 rows x 2 columns]"
                    },
                    "execution_count": 22,
                    "metadata": {},
                    "output_type": "execute_result"
                }
            ],
            "source": "from pandas import json_normalize\n\njson_normalize(language_translator.list_identifiable_languages().get_result(), \"languages\")"
        },
        {
            "cell_type": "code",
            "execution_count": 23,
            "metadata": {},
            "outputs": [
                {
                    "data": {
                        "text/plain": "<ibm_cloud_sdk_core.detailed_response.DetailedResponse at 0x7f5194e81ca0>"
                    },
                    "execution_count": 23,
                    "metadata": {},
                    "output_type": "execute_result"
                }
            ],
            "source": "translation_response = language_translator.translate(\\\n    text=recognized_text, model_id='en-es')\ntranslation_response"
        },
        {
            "cell_type": "code",
            "execution_count": 24,
            "metadata": {},
            "outputs": [
                {
                    "data": {
                        "text/plain": "{'translations': [{'translation': 'en este v\u00eddeo cubriremos la regresi\u00f3n polin\u00f3mica y las tuber\u00edas '}],\n 'word_count': 10,\n 'character_count': 64}"
                    },
                    "execution_count": 24,
                    "metadata": {},
                    "output_type": "execute_result"
                }
            ],
            "source": "translation=translation_response.get_result()\ntranslation"
        },
        {
            "cell_type": "code",
            "execution_count": 25,
            "metadata": {},
            "outputs": [
                {
                    "data": {
                        "text/plain": "'en este v\u00eddeo cubriremos la regresi\u00f3n polin\u00f3mica y las tuber\u00edas '"
                    },
                    "execution_count": 25,
                    "metadata": {},
                    "output_type": "execute_result"
                }
            ],
            "source": "spanish_translation =translation['translations'][0]['translation']\nspanish_translation "
        },
        {
            "cell_type": "code",
            "execution_count": 28,
            "metadata": {},
            "outputs": [
                {
                    "data": {
                        "text/plain": "'in this video we will cover the polynomial regression and the pipes '"
                    },
                    "execution_count": 28,
                    "metadata": {},
                    "output_type": "execute_result"
                }
            ],
            "source": "translation_new = language_translator.translate(text=spanish_translation ,model_id='es-en').get_result()\ntranslation_eng=translation_new['translations'][0]['translation']\ntranslation_eng"
        },
        {
            "cell_type": "code",
            "execution_count": null,
            "metadata": {},
            "outputs": [],
            "source": ""
        }
    ],
    "metadata": {
        "kernelspec": {
            "display_name": "Python 3.8",
            "language": "python",
            "name": "python3"
        },
        "language_info": {
            "codemirror_mode": {
                "name": "ipython",
                "version": 3
            },
            "file_extension": ".py",
            "mimetype": "text/x-python",
            "name": "python",
            "nbconvert_exporter": "python",
            "pygments_lexer": "ipython3",
            "version": "3.8.12"
        }
    },
    "nbformat": 4,
    "nbformat_minor": 1
}